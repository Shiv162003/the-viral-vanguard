{
 "cells": [
  {
   "cell_type": "code",
   "execution_count": 5,
   "id": "aabafe6a",
   "metadata": {},
   "outputs": [
    {
     "name": "stdout",
     "output_type": "stream",
     "text": [
      "            Sr. No           CtN          CtE       CtRdRp\n",
      "count  1741.000000   1742.000000  1742.000000  1742.000000\n",
      "mean    874.500862     26.289282    10.143548    10.311659\n",
      "std     504.637982    531.856726    16.083564    15.773157\n",
      "min       0.000000      0.000000     0.000000     0.000000\n",
      "25%     440.000000      0.000000     0.000000     0.000000\n",
      "50%     876.000000      0.000000     0.000000     0.000000\n",
      "75%    1311.000000     29.500000    32.765000    32.100000\n",
      "max    1746.000000  21100.000000    40.540000    41.710000\n",
      "Sr. No        1\n",
      "Sample ID     0\n",
      "Date          0\n",
      "Location      0\n",
      "Kit used      0\n",
      "CtN           0\n",
      "CtE           0\n",
      "CtRdRp        0\n",
      "PCR Result    3\n",
      "dtype: int64\n",
      "Sr. No        1740\n",
      "Sample ID     1742\n",
      "Date           330\n",
      "Location        91\n",
      "Kit used         1\n",
      "CtN            341\n",
      "CtE            292\n",
      "CtRdRp         288\n",
      "PCR Result       6\n",
      "dtype: int64\n"
     ]
    }
   ],
   "source": [
    "import pandas as pd\n",
    "\n",
    "# Load the data from CSV file\n",
    "df = pd.read_csv(\"data.csv\")\n",
    "\n",
    "# Describe the data\n",
    "print(df.describe())\n",
    "\n",
    "# Check for missing values\n",
    "print(df.isnull().sum())\n",
    "\n",
    "# Check for unique values\n",
    "print(df.nunique())\n",
    "\n",
    "\n",
    "# Drop unnecessary columns\n",
    "df.drop([\"Sample ID\", \"Kit used\"], axis=1, inplace=True)\n",
    "\n",
    "\n",
    "# Save the cleaned data to CSV file\n",
    "df.to_csv(\"data1.csv\", index=False)\n"
   ]
  },
  {
   "cell_type": "code",
   "execution_count": null,
   "id": "d36f024d",
   "metadata": {},
   "outputs": [],
   "source": []
  }
 ],
 "metadata": {
  "kernelspec": {
   "display_name": "Python 3 (ipykernel)",
   "language": "python",
   "name": "python3"
  },
  "language_info": {
   "codemirror_mode": {
    "name": "ipython",
    "version": 3
   },
   "file_extension": ".py",
   "mimetype": "text/x-python",
   "name": "python",
   "nbconvert_exporter": "python",
   "pygments_lexer": "ipython3",
   "version": "3.9.13"
  }
 },
 "nbformat": 4,
 "nbformat_minor": 5
}
